{
 "cells": [
  {
   "cell_type": "code",
   "execution_count": 3,
   "metadata": {},
   "outputs": [],
   "source": [
    "import pandas as pd\n",
    "import pickle"
   ]
  },
  {
   "cell_type": "code",
   "execution_count": 4,
   "metadata": {},
   "outputs": [],
   "source": [
    "places = pd.read_csv(\"data/shops_and_tourism.tsv\", sep=\"\\t\")\n",
    "\n",
    "canalsdf = pd.read_csv(\"data/canals_roads_venice.tsv\", sep=\"\\t\")"
   ]
  },
  {
   "cell_type": "code",
   "execution_count": 5,
   "metadata": {},
   "outputs": [],
   "source": [
    "# Create the list of strings to choose for places\n",
    "shops_text = []\n",
    "\n",
    "def get_a_an(text):\n",
    "    vowels = ['a', 'e', 'i', 'o', 'u', 'y']\n",
    "    if text[0] in vowels:\n",
    "        return f\" an {text}\"\n",
    "    else:\n",
    "        return f\" a {text}\"\n",
    "\n",
    "for i, row in places.iterrows():\n",
    "    if not pd.isna(row['tourism']):\n",
    "        shops_text.append(\"the \" + row['name'] + \",\" + get_a_an(row['tourism'].replace('_', ' ')))\n",
    "        shops_text.append(f\"the {row['tourism'].replace('_', ' ')}, {row['name']}\")\n",
    "    if not pd.isna(row['amenity']):\n",
    "        if row['amenity'] == \"drinking_water\":\n",
    "            shops_text.append(f\"the {row['name']}, where you can get a drink of water\")\n",
    "            shops_text.append(f\"the drinking fountain at {row['name']}\")\n",
    "        elif row['amenity'] == \"fast_food\":\n",
    "            shops_text.append(f\"the {row['name']}, a fast food restaurant\")\n",
    "            shops_text.append(f\"the fast food restaurant, {row['name']}\")\n",
    "        elif row['amenity'] == \"ice_cream\":\n",
    "            shops_text.append(f\"the {row['name']}, an ice cream place\")\n",
    "            shops_text.append(f\"the ice cream place, {row['name']}\")\n",
    "        else:                 \n",
    "            shops_text.append(f\"the {row['name']},\" + get_a_an(row['amenity'].replace('_', ' ')))\n",
    "            shops_text.append(f\"the {row['amenity'].replace('_', ' ')}, {row['name']}\")\n"
   ]
  },
  {
   "cell_type": "code",
   "execution_count": 6,
   "metadata": {},
   "outputs": [],
   "source": [
    "# Create the list of strings for canals and 'roads' too\n",
    "\n",
    "canals = []\n",
    "walks = []\n",
    "\n",
    "for i, row in canalsdf.iterrows():\n",
    "    if not pd.isna(row['waterway']):\n",
    "        string = f\"the {row['name']}\"\n",
    "        if string not in canals:\n",
    "            canals.append(f\"the {row['name']}\")\n",
    "    elif not pd.isna(row['highway']):\n",
    "        string = f\"the {row['name']}\"\n",
    "        if string not in walks:\n",
    "            walks.append(string)"
   ]
  },
  {
   "cell_type": "code",
   "execution_count": 9,
   "metadata": {},
   "outputs": [],
   "source": [
    "squares = [walk for walk in walks if 'Campo' in walk]"
   ]
  },
  {
   "cell_type": "code",
   "execution_count": 8,
   "metadata": {},
   "outputs": [],
   "source": [
    "dest_dir = \"/home/jupyter/code/venice/data/\"\n",
    "pickle.dump(squares, open(dest_dir + 'squares_data_list.p', 'wb'))\n",
    "\n",
    "pickle.dump(canals, open(dest_dir + 'canals_data_list.p', 'wb'))\n",
    "\n",
    "\n",
    "pickle.dump(walks, open(dest_dir + 'walks_data_list.p', 'wb'))\n",
    "\n",
    "\n",
    "pickle.dump(shops_text, open(dest_dir + 'shops_data_list.p', 'wb'))"
   ]
  },
  {
   "cell_type": "code",
   "execution_count": null,
   "metadata": {},
   "outputs": [],
   "source": []
  }
 ],
 "metadata": {
  "kernelspec": {
   "display_name": "Python 3",
   "language": "python",
   "name": "python3"
  },
  "language_info": {
   "codemirror_mode": {
    "name": "ipython",
    "version": 3
   },
   "file_extension": ".py",
   "mimetype": "text/x-python",
   "name": "python",
   "nbconvert_exporter": "python",
   "pygments_lexer": "ipython3",
   "version": "3.7.3"
  }
 },
 "nbformat": 4,
 "nbformat_minor": 2
}
